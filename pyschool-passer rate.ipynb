{
 "cells": [
  {
   "cell_type": "code",
   "execution_count": 2,
   "metadata": {},
   "outputs": [],
   "source": [
    "import pandas as pd"
   ]
  },
  {
   "cell_type": "code",
   "execution_count": 3,
   "metadata": {},
   "outputs": [],
   "source": [
    "students_data_path = \"Desktop/UCFLM201907DATA2/04-Pandas/Instructions/PyCitySchools/Resources/students_complete.csv\"\n",
    "schools_data_path = \"Desktop/UCFLM201907DATA2/04-Pandas/Instructions/PyCitySchools/Resources/schools_complete.csv\"\n",
    "\n",
    "students_df = pd.read_csv(students_data_path, encoding = \"utf-8\")\n",
    "\n",
    "schools_df = pd.read_csv(schools_data_path, encoding = \"utf-8\")\n",
    "\n"
   ]
  },
  {
   "cell_type": "code",
   "execution_count": 12,
   "metadata": {},
   "outputs": [],
   "source": [
    "# Total Schools\n",
    "school_count = len(schools_df[\"school_name\"])\n",
    "\n",
    "# Total Students\n",
    "\n",
    "student_count = len(students_df[\"student_name\"])\n",
    "\n",
    "# Total Budget\n",
    "\n",
    "total_budget = schools_df[\"budget\"].sum()\n",
    "\n",
    "# Average Math Score\n",
    "\n",
    "avg_math_score = students_df[\"math_score\"].mean()\n",
    "\n",
    "# Average Reading Score\n",
    "\n",
    "avg_reading_score = students_df[\"reading_score\"].mean()\n",
    "\n",
    "# % Passing Math\n",
    "\n",
    "passing_math = students_df.loc[(students_df[\"math_score\"] >= 70)]\n",
    "total_passing_math = len(passing_math)\n",
    "percent_passing_math = (total_passing_math / student_count) * (100)\n",
    "\n",
    "# % Passing Reading\n",
    "\n",
    "passing_reading = students_df.loc[(students_df[\"reading_score\"] >= 70)]\n",
    "total_passing_reading = len(passing_reading)\n",
    "percent_passing_reading = (total_passing_reading / student_count) * (100)\n",
    "\n",
    "# Overall Passing Rate (Average of the two above)\n",
    "\n",
    "overall_passing_rate = (percent_passing_math + percent_passing_reading)/2\n"
   ]
  },
  {
   "cell_type": "code",
   "execution_count": 4,
   "metadata": {},
   "outputs": [],
   "source": [
    "# Placing all of the data found into a summary dataframe\n",
    "summary_table = pd.DataFrame({\"Total Schools\": [school_count], \"Total Students\": [student_count], \"Total Budget\": [total_budget],\"Average Math Score\":[avg_math_score],\"Average Reading Score\":[avg_reading_score],\"% Passing Math\": [percent_passing_math],\"% Passing Reading\":[percent_passing_reading],\"Overall Passing Rate\":[overall_passing_rate]})\n"
   ]
  },
  {
   "cell_type": "code",
   "execution_count": 8,
   "metadata": {},
   "outputs": [],
   "source": [
    "#Merging the two csv's\n",
    "\n",
    "students_schools_df = pd.merge(schools_df,students_df,how=\"right\")\n"
   ]
  },
  {
   "cell_type": "code",
   "execution_count": 9,
   "metadata": {},
   "outputs": [],
   "source": [
    "#Per student budget\n",
    "\n",
    "per_student_budget = schools_df[\"budget\"] / schools_df[\"size\"]\n"
   ]
  },
  {
   "cell_type": "code",
   "execution_count": 10,
   "metadata": {},
   "outputs": [],
   "source": [
    "#Average math score per school\n",
    "\n",
    "avg_pyschool_data = students_schools_df.groupby([\"school_name\"]).mean() \n",
    "avg_math_score_per_school = avg_pyschool_data[\"math_score\"]\n"
   ]
  },
  {
   "cell_type": "code",
   "execution_count": 11,
   "metadata": {},
   "outputs": [],
   "source": [
    "#Average reading score per school\n",
    "\n",
    "avg_reading_score_per_school = avg_pyschool_data[\"reading_score\"]\n"
   ]
  },
  {
   "cell_type": "code",
   "execution_count": 23,
   "metadata": {},
   "outputs": [
    {
     "data": {
      "text/plain": [
       "Bailey High School       3318\n",
       "Johnson High School      3145\n",
       "Hernandez High School    3094\n",
       "Rodriguez High School    2654\n",
       "Wilson High School       2143\n",
       "Figueroa High School     1946\n",
       "Huang High School        1916\n",
       "Ford High School         1871\n",
       "Cabrera High School      1749\n",
       "Wright High School       1680\n",
       "Shelton High School      1653\n",
       "Thomas High School       1525\n",
       "Griffin High School      1371\n",
       "Pena High School          910\n",
       "Holden High School        395\n",
       "Name: school_name, dtype: int64"
      ]
     },
     "execution_count": 23,
     "metadata": {},
     "output_type": "execute_result"
    }
   ],
   "source": [
    "total_passing_math = passing_math[\"school_name\"].value_counts()\n",
    "total_passing_math"
   ]
  },
  {
   "cell_type": "code",
   "execution_count": 24,
   "metadata": {},
   "outputs": [
    {
     "data": {
      "text/plain": [
       "Bailey High School       4077\n",
       "Johnson High School      3867\n",
       "Hernandez High School    3748\n",
       "Rodriguez High School    3208\n",
       "Figueroa High School     2381\n",
       "Huang High School        2372\n",
       "Wilson High School       2204\n",
       "Ford High School         2172\n",
       "Cabrera High School      1803\n",
       "Wright High School       1739\n",
       "Shelton High School      1688\n",
       "Thomas High School       1591\n",
       "Griffin High School      1426\n",
       "Pena High School          923\n",
       "Holden High School        411\n",
       "Name: school_name, dtype: int64"
      ]
     },
     "execution_count": 24,
     "metadata": {},
     "output_type": "execute_result"
    }
   ],
   "source": [
    "total_passing_reading = passing_reading[\"school_name\"].value_counts()\n",
    "total_passing_reading"
   ]
  },
  {
   "cell_type": "code",
   "execution_count": 37,
   "metadata": {},
   "outputs": [
    {
     "data": {
      "text/plain": [
       "Bailey High School       4976\n",
       "Johnson High School      4761\n",
       "Hernandez High School    4635\n",
       "Rodriguez High School    3999\n",
       "Figueroa High School     2949\n",
       "Huang High School        2917\n",
       "Ford High School         2739\n",
       "Wilson High School       2283\n",
       "Cabrera High School      1858\n",
       "Wright High School       1800\n",
       "Shelton High School      1761\n",
       "Thomas High School       1635\n",
       "Griffin High School      1468\n",
       "Pena High School          962\n",
       "Holden High School        427\n",
       "Name: school_name, dtype: int64"
      ]
     },
     "execution_count": 37,
     "metadata": {},
     "output_type": "execute_result"
    }
   ],
   "source": [
    "size = students_df[\"school_name\"].value_counts()\n",
    "\n",
    "mat\n",
    "\n"
   ]
  },
  {
   "cell_type": "code",
   "execution_count": 27,
   "metadata": {},
   "outputs": [],
   "source": [
    "# Percent passing math per school\n",
    "\n",
    "per_passing_math = (total_passing_math / size) * 100\n"
   ]
  },
  {
   "cell_type": "code",
   "execution_count": 28,
   "metadata": {},
   "outputs": [],
   "source": [
    "#Percent passing reading per school \n",
    "\n",
    "per_passing_reading = (total_passing_reading / size) * 100\n"
   ]
  },
  {
   "cell_type": "code",
   "execution_count": 29,
   "metadata": {},
   "outputs": [],
   "source": [
    "# Overall passer rate per school\n",
    "\n",
    "overall_passing = (per_passing_math + per_passing_reading) / 2\n"
   ]
  },
  {
   "cell_type": "code",
   "execution_count": 18,
   "metadata": {},
   "outputs": [],
   "source": [
    "averages_read_math = pd.merge(avg_math_score_per_school,avg_reading_score_per_school, on=\"school_name\")"
   ]
  },
  {
   "cell_type": "code",
   "execution_count": 19,
   "metadata": {},
   "outputs": [
    {
     "data": {
      "text/html": [
       "<div>\n",
       "<style scoped>\n",
       "    .dataframe tbody tr th:only-of-type {\n",
       "        vertical-align: middle;\n",
       "    }\n",
       "\n",
       "    .dataframe tbody tr th {\n",
       "        vertical-align: top;\n",
       "    }\n",
       "\n",
       "    .dataframe thead th {\n",
       "        text-align: right;\n",
       "    }\n",
       "</style>\n",
       "<table border=\"1\" class=\"dataframe\">\n",
       "  <thead>\n",
       "    <tr style=\"text-align: right;\">\n",
       "      <th></th>\n",
       "      <th>School ID</th>\n",
       "      <th>school_name</th>\n",
       "      <th>type</th>\n",
       "      <th>size</th>\n",
       "      <th>budget</th>\n",
       "      <th>math_score</th>\n",
       "      <th>reading_score</th>\n",
       "    </tr>\n",
       "  </thead>\n",
       "  <tbody>\n",
       "    <tr>\n",
       "      <th>0</th>\n",
       "      <td>0</td>\n",
       "      <td>Huang High School</td>\n",
       "      <td>District</td>\n",
       "      <td>2917</td>\n",
       "      <td>1910635</td>\n",
       "      <td>76.629414</td>\n",
       "      <td>81.182722</td>\n",
       "    </tr>\n",
       "    <tr>\n",
       "      <th>1</th>\n",
       "      <td>1</td>\n",
       "      <td>Figueroa High School</td>\n",
       "      <td>District</td>\n",
       "      <td>2949</td>\n",
       "      <td>1884411</td>\n",
       "      <td>76.711767</td>\n",
       "      <td>81.158020</td>\n",
       "    </tr>\n",
       "    <tr>\n",
       "      <th>2</th>\n",
       "      <td>2</td>\n",
       "      <td>Shelton High School</td>\n",
       "      <td>Charter</td>\n",
       "      <td>1761</td>\n",
       "      <td>1056600</td>\n",
       "      <td>83.359455</td>\n",
       "      <td>83.725724</td>\n",
       "    </tr>\n",
       "    <tr>\n",
       "      <th>3</th>\n",
       "      <td>3</td>\n",
       "      <td>Hernandez High School</td>\n",
       "      <td>District</td>\n",
       "      <td>4635</td>\n",
       "      <td>3022020</td>\n",
       "      <td>77.289752</td>\n",
       "      <td>80.934412</td>\n",
       "    </tr>\n",
       "    <tr>\n",
       "      <th>4</th>\n",
       "      <td>4</td>\n",
       "      <td>Griffin High School</td>\n",
       "      <td>Charter</td>\n",
       "      <td>1468</td>\n",
       "      <td>917500</td>\n",
       "      <td>83.351499</td>\n",
       "      <td>83.816757</td>\n",
       "    </tr>\n",
       "    <tr>\n",
       "      <th>5</th>\n",
       "      <td>5</td>\n",
       "      <td>Wilson High School</td>\n",
       "      <td>Charter</td>\n",
       "      <td>2283</td>\n",
       "      <td>1319574</td>\n",
       "      <td>83.274201</td>\n",
       "      <td>83.989488</td>\n",
       "    </tr>\n",
       "    <tr>\n",
       "      <th>6</th>\n",
       "      <td>6</td>\n",
       "      <td>Cabrera High School</td>\n",
       "      <td>Charter</td>\n",
       "      <td>1858</td>\n",
       "      <td>1081356</td>\n",
       "      <td>83.061895</td>\n",
       "      <td>83.975780</td>\n",
       "    </tr>\n",
       "    <tr>\n",
       "      <th>7</th>\n",
       "      <td>7</td>\n",
       "      <td>Bailey High School</td>\n",
       "      <td>District</td>\n",
       "      <td>4976</td>\n",
       "      <td>3124928</td>\n",
       "      <td>77.048432</td>\n",
       "      <td>81.033963</td>\n",
       "    </tr>\n",
       "    <tr>\n",
       "      <th>8</th>\n",
       "      <td>8</td>\n",
       "      <td>Holden High School</td>\n",
       "      <td>Charter</td>\n",
       "      <td>427</td>\n",
       "      <td>248087</td>\n",
       "      <td>83.803279</td>\n",
       "      <td>83.814988</td>\n",
       "    </tr>\n",
       "    <tr>\n",
       "      <th>9</th>\n",
       "      <td>9</td>\n",
       "      <td>Pena High School</td>\n",
       "      <td>Charter</td>\n",
       "      <td>962</td>\n",
       "      <td>585858</td>\n",
       "      <td>83.839917</td>\n",
       "      <td>84.044699</td>\n",
       "    </tr>\n",
       "    <tr>\n",
       "      <th>10</th>\n",
       "      <td>10</td>\n",
       "      <td>Wright High School</td>\n",
       "      <td>Charter</td>\n",
       "      <td>1800</td>\n",
       "      <td>1049400</td>\n",
       "      <td>83.682222</td>\n",
       "      <td>83.955000</td>\n",
       "    </tr>\n",
       "    <tr>\n",
       "      <th>11</th>\n",
       "      <td>11</td>\n",
       "      <td>Rodriguez High School</td>\n",
       "      <td>District</td>\n",
       "      <td>3999</td>\n",
       "      <td>2547363</td>\n",
       "      <td>76.842711</td>\n",
       "      <td>80.744686</td>\n",
       "    </tr>\n",
       "    <tr>\n",
       "      <th>12</th>\n",
       "      <td>12</td>\n",
       "      <td>Johnson High School</td>\n",
       "      <td>District</td>\n",
       "      <td>4761</td>\n",
       "      <td>3094650</td>\n",
       "      <td>77.072464</td>\n",
       "      <td>80.966394</td>\n",
       "    </tr>\n",
       "    <tr>\n",
       "      <th>13</th>\n",
       "      <td>13</td>\n",
       "      <td>Ford High School</td>\n",
       "      <td>District</td>\n",
       "      <td>2739</td>\n",
       "      <td>1763916</td>\n",
       "      <td>77.102592</td>\n",
       "      <td>80.746258</td>\n",
       "    </tr>\n",
       "    <tr>\n",
       "      <th>14</th>\n",
       "      <td>14</td>\n",
       "      <td>Thomas High School</td>\n",
       "      <td>Charter</td>\n",
       "      <td>1635</td>\n",
       "      <td>1043130</td>\n",
       "      <td>83.418349</td>\n",
       "      <td>83.848930</td>\n",
       "    </tr>\n",
       "  </tbody>\n",
       "</table>\n",
       "</div>"
      ],
      "text/plain": [
       "    School ID            school_name      type  size   budget  math_score  \\\n",
       "0           0      Huang High School  District  2917  1910635   76.629414   \n",
       "1           1   Figueroa High School  District  2949  1884411   76.711767   \n",
       "2           2    Shelton High School   Charter  1761  1056600   83.359455   \n",
       "3           3  Hernandez High School  District  4635  3022020   77.289752   \n",
       "4           4    Griffin High School   Charter  1468   917500   83.351499   \n",
       "5           5     Wilson High School   Charter  2283  1319574   83.274201   \n",
       "6           6    Cabrera High School   Charter  1858  1081356   83.061895   \n",
       "7           7     Bailey High School  District  4976  3124928   77.048432   \n",
       "8           8     Holden High School   Charter   427   248087   83.803279   \n",
       "9           9       Pena High School   Charter   962   585858   83.839917   \n",
       "10         10     Wright High School   Charter  1800  1049400   83.682222   \n",
       "11         11  Rodriguez High School  District  3999  2547363   76.842711   \n",
       "12         12    Johnson High School  District  4761  3094650   77.072464   \n",
       "13         13       Ford High School  District  2739  1763916   77.102592   \n",
       "14         14     Thomas High School   Charter  1635  1043130   83.418349   \n",
       "\n",
       "    reading_score  \n",
       "0       81.182722  \n",
       "1       81.158020  \n",
       "2       83.725724  \n",
       "3       80.934412  \n",
       "4       83.816757  \n",
       "5       83.989488  \n",
       "6       83.975780  \n",
       "7       81.033963  \n",
       "8       83.814988  \n",
       "9       84.044699  \n",
       "10      83.955000  \n",
       "11      80.744686  \n",
       "12      80.966394  \n",
       "13      80.746258  \n",
       "14      83.848930  "
      ]
     },
     "execution_count": 19,
     "metadata": {},
     "output_type": "execute_result"
    }
   ],
   "source": [
    "results = pd.merge(schools_df,averages_read_math,on=\"school_name\")\n",
    "results\n"
   ]
  },
  {
   "cell_type": "code",
   "execution_count": 30,
   "metadata": {},
   "outputs": [
    {
     "data": {
      "text/plain": [
       "0                       NaN\n",
       "1                       NaN\n",
       "2                       NaN\n",
       "3                       NaN\n",
       "4                       NaN\n",
       "5                       NaN\n",
       "6                       NaN\n",
       "7                       NaN\n",
       "8                       NaN\n",
       "9                       NaN\n",
       "10                      NaN\n",
       "11                      NaN\n",
       "12                      NaN\n",
       "13                      NaN\n",
       "14                      NaN\n",
       "Bailey High School      NaN\n",
       "Cabrera High School     NaN\n",
       "Figueroa High School    NaN\n",
       "Ford High School        NaN\n",
       "Griffin High School     NaN\n",
       "Hernandez High School   NaN\n",
       "Holden High School      NaN\n",
       "Huang High School       NaN\n",
       "Johnson High School     NaN\n",
       "Pena High School        NaN\n",
       "Rodriguez High School   NaN\n",
       "Shelton High School     NaN\n",
       "Thomas High School      NaN\n",
       "Wilson High School      NaN\n",
       "Wright High School      NaN\n",
       "dtype: float64"
      ]
     },
     "execution_count": 30,
     "metadata": {},
     "output_type": "execute_result"
    }
   ],
   "source": [
    "per_passing_math"
   ]
  },
  {
   "cell_type": "code",
   "execution_count": 21,
   "metadata": {},
   "outputs": [
    {
     "data": {
      "text/plain": [
       "0     1152.211176\n",
       "1     1139.708376\n",
       "2     1908.574673\n",
       "3      725.134844\n",
       "4     2289.509537\n",
       "5     1472.185721\n",
       "6     1808.934338\n",
       "7      675.442122\n",
       "8     7871.194379\n",
       "9     3493.762994\n",
       "10    1867.222222\n",
       "11     840.460115\n",
       "12     705.944129\n",
       "13    1227.090179\n",
       "14    2055.657492\n",
       "Name: size, dtype: float64"
      ]
     },
     "execution_count": 21,
     "metadata": {},
     "output_type": "execute_result"
    }
   ],
   "source": [
    "per_passing_reading"
   ]
  },
  {
   "cell_type": "code",
   "execution_count": 22,
   "metadata": {},
   "outputs": [
    {
     "data": {
      "text/plain": [
       "0     1079.533768\n",
       "1     1067.819600\n",
       "2     1788.188529\n",
       "3      679.395901\n",
       "4     2145.095368\n",
       "5     1379.325449\n",
       "6     1694.833154\n",
       "7      632.837621\n",
       "8     7374.707260\n",
       "9     3273.388773\n",
       "10    1749.444444\n",
       "11     787.446862\n",
       "12     661.415669\n",
       "13    1149.689668\n",
       "14    1925.993884\n",
       "Name: size, dtype: float64"
      ]
     },
     "execution_count": 22,
     "metadata": {},
     "output_type": "execute_result"
    }
   ],
   "source": [
    "overall_passing"
   ]
  },
  {
   "cell_type": "code",
   "execution_count": null,
   "metadata": {},
   "outputs": [],
   "source": []
  }
 ],
 "metadata": {
  "kernelspec": {
   "display_name": "Python 3",
   "language": "python",
   "name": "python3"
  },
  "language_info": {
   "codemirror_mode": {
    "name": "ipython",
    "version": 3
   },
   "file_extension": ".py",
   "mimetype": "text/x-python",
   "name": "python",
   "nbconvert_exporter": "python",
   "pygments_lexer": "ipython3",
   "version": "3.7.3"
  }
 },
 "nbformat": 4,
 "nbformat_minor": 2
}
